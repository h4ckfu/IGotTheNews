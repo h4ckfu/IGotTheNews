{
 "cells": [
  {
   "cell_type": "code",
   "execution_count": 1,
   "metadata": {},
   "outputs": [],
   "source": [
    "import newspaper\n",
    "from time import gmtime, strftime\n",
    "import pandas as pd\n",
    "\n",
    "hot_today = newspaper.hot()\n",
    "\n",
    "hot_date = str(strftime(\"%Y-%m-%d\", gmtime()) + '_hotness.csv')\n",
    "\n",
    "df = pd.DataFrame(hot_today)\n",
    "\n",
    "df['rating'] = df.index\n",
    "df['rank'] = df['rating'].rank(ascending=False)\n",
    "df = df.drop('rating', axis=1)\n",
    "\n",
    "df.to_csv(hot_date)"
   ]
  },
  {
   "cell_type": "code",
   "execution_count": 27,
   "metadata": {},
   "outputs": [],
   "source": [
    "#newspaper.popular_urls()"
   ]
  },
  {
   "cell_type": "code",
   "execution_count": 28,
   "metadata": {},
   "outputs": [],
   "source": []
  },
  {
   "cell_type": "code",
   "execution_count": 29,
   "metadata": {},
   "outputs": [],
   "source": []
  },
  {
   "cell_type": "code",
   "execution_count": null,
   "metadata": {},
   "outputs": [],
   "source": []
  }
 ],
 "metadata": {
  "kernelspec": {
   "display_name": "Python 3",
   "language": "python",
   "name": "python3"
  },
  "language_info": {
   "codemirror_mode": {
    "name": "ipython",
    "version": 3
   },
   "file_extension": ".py",
   "mimetype": "text/x-python",
   "name": "python",
   "nbconvert_exporter": "python",
   "pygments_lexer": "ipython3",
   "version": "3.6.8"
  }
 },
 "nbformat": 4,
 "nbformat_minor": 2
}
